{
 "cells": [
  {
   "cell_type": "markdown",
   "id": "464f33eb",
   "metadata": {},
   "source": [
    "### Real-Time Electricity Forecasting"
   ]
  }
 ],
 "metadata": {
  "language_info": {
   "name": "python"
  }
 },
 "nbformat": 4,
 "nbformat_minor": 5
}
