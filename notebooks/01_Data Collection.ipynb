{
 "cells": [
  {
   "cell_type": "markdown",
   "id": "c1e685b7",
   "metadata": {},
   "source": [
    "### Real-Time Electricity Forecasting Project"
   ]
  }
 ],
 "metadata": {
  "language_info": {
   "name": "python"
  }
 },
 "nbformat": 4,
 "nbformat_minor": 5
}
